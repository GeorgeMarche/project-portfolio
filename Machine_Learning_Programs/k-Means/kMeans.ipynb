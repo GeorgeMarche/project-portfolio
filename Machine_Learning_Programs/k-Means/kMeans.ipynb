{
  "cells": [
    {
      "cell_type": "code",
      "execution_count": 1,
      "metadata": {
        "colab": {
          "base_uri": "https://localhost:8080/",
          "height": 235
        },
        "id": "3OCZI46WSla1",
        "outputId": "b842b0da-ecf2-4982-ef2a-7774399659b1"
      },
      "outputs": [
        {
          "name": "stdout",
          "output_type": "stream",
          "text": [
            "[[1.4296893867513905, 0.22796015199596534], [1.2325052146249738, 1.8651087430156652], [0.17823275121292814, 0.7202977109701231]]\n",
            "[1.3494699999999997, 0.6894224999999998]\n",
            "[1.1667708333333333, 1.7629437499999998]\n",
            "[0.24429565217391297, 0.9311413043478262]\n"
          ]
        }
      ],
      "source": [
        "from random import uniform\n",
        "\n",
        "points = []\n",
        "\n",
        "def init_centroids(k = 3, x0 = -0.3, xn = 1.8, y0 = 0, yn = 2.4):\n",
        "  return [[uniform(x0, xn), uniform(y0, yn)] for _ in range(k)]\n",
        "  \n",
        "with open(\"A.txt\", \"r\") as a_txt:\n",
        "  for line in a_txt:\n",
        "    points.append([float(num) for num in line.rstrip().split()])\n",
        "\n",
        "SqDiff = lambda a, b, i: (a[i] - b[i]) ** 2\n",
        "euclidean = lambda a, b: (SqDiff(a, b, 0) + SqDiff(a, b, 1)) ** 0.5\n",
        "\n",
        "new_coord = lambda C, i: sum([pt[i] for pt in C]) / len(C)\n",
        "\n",
        "def kMeans(k = 3, iters = 40):\n",
        "\n",
        "  centroids = init_centroids(k)\n",
        "  clusters = [[] for _ in centroids]\n",
        "  dist_data = []\n",
        "\n",
        "  for _ in range(iters):\n",
        "\n",
        "    iter = []\n",
        "    print(centroids)\n",
        "    for point in points:\n",
        "\n",
        "      dists = [euclidean(point, cntrd) for cntrd in centroids]\n",
        "      assigned = dists.index(min(dists))\n",
        "      \n",
        "      clusters[assigned].append(point)\n",
        "\n",
        "    for i in range(len(centroids)):\n",
        "\n",
        "        centroids[i] = [new_coord(clusters[i], 0), \n",
        "                        new_coord(clusters[i], 1)]\n",
        "        print(centroids[i])\n",
        "\n",
        "    break\n",
        "     \n",
        "kMeans()"
      ]
    },
    {
      "cell_type": "code",
      "execution_count": null,
      "metadata": {
        "id": "R5zMFiCjSq_i"
      },
      "outputs": [],
      "source": []
    },
    {
      "cell_type": "code",
      "execution_count": null,
      "metadata": {
        "id": "AujmeFt0Srjm"
      },
      "outputs": [],
      "source": []
    },
    {
      "cell_type": "code",
      "execution_count": null,
      "metadata": {
        "id": "5luAc8J2Srly"
      },
      "outputs": [],
      "source": []
    },
    {
      "cell_type": "code",
      "execution_count": null,
      "metadata": {
        "id": "RaUTribBSrok"
      },
      "outputs": [],
      "source": []
    },
    {
      "cell_type": "code",
      "execution_count": null,
      "metadata": {
        "id": "Lwk2qL1nSrrf"
      },
      "outputs": [],
      "source": []
    },
    {
      "cell_type": "code",
      "execution_count": null,
      "metadata": {
        "id": "kyZeVi-SSruD"
      },
      "outputs": [],
      "source": []
    },
    {
      "cell_type": "code",
      "execution_count": null,
      "metadata": {
        "id": "pJw9zzXrSsJU"
      },
      "outputs": [],
      "source": []
    },
    {
      "cell_type": "code",
      "execution_count": null,
      "metadata": {
        "id": "JyXgpYLaSsLg"
      },
      "outputs": [],
      "source": []
    },
    {
      "cell_type": "code",
      "execution_count": null,
      "metadata": {
        "id": "tLJLPDJsSsOF"
      },
      "outputs": [],
      "source": []
    },
    {
      "cell_type": "code",
      "execution_count": null,
      "metadata": {
        "id": "0QGiz375SsQg"
      },
      "outputs": [],
      "source": []
    },
    {
      "cell_type": "code",
      "execution_count": null,
      "metadata": {
        "id": "EC_mSQE1SsTC"
      },
      "outputs": [],
      "source": []
    },
    {
      "cell_type": "code",
      "execution_count": null,
      "metadata": {
        "id": "RxnJI0eRSsVI"
      },
      "outputs": [],
      "source": []
    }
  ],
  "metadata": {
    "colab": {
      "provenance": []
    },
    "kernelspec": {
      "display_name": "Python 3",
      "name": "python3"
    },
    "language_info": {
      "codemirror_mode": {
        "name": "ipython",
        "version": 3
      },
      "file_extension": ".py",
      "mimetype": "text/x-python",
      "name": "python",
      "nbconvert_exporter": "python",
      "pygments_lexer": "ipython3",
      "version": "3.9.1"
    }
  },
  "nbformat": 4,
  "nbformat_minor": 0
}
